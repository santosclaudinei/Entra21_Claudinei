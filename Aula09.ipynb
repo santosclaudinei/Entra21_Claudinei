{
  "nbformat": 4,
  "nbformat_minor": 0,
  "metadata": {
    "colab": {
      "name": "Cópia de Untitled1.ipynb",
      "provenance": [],
      "authorship_tag": "ABX9TyMRatrgrCsRz0S702a+dTYm",
      "include_colab_link": true
    },
    "kernelspec": {
      "name": "python3",
      "display_name": "Python 3"
    }
  },
  "cells": [
    {
      "cell_type": "markdown",
      "metadata": {
        "id": "view-in-github",
        "colab_type": "text"
      },
      "source": [
        "<a href=\"https://colab.research.google.com/github/santosclaudinei/Entra21_Claudinei/blob/master/Aula09.ipynb\" target=\"_parent\"><img src=\"https://colab.research.google.com/assets/colab-badge.svg\" alt=\"Open In Colab\"/></a>"
      ]
    },
    {
      "cell_type": "code",
      "metadata": {
        "id": "Mw6bY-ODGUWv",
        "colab_type": "code",
        "colab": {}
      },
      "source": [
        "\"\"\"Exercicio 01 - Faça um programa que conte de 0 a 100 e mostre todos os números.\"\"\"\n",
        "\n",
        "for i in range(101):    # Executa o laço 101 vezes afim de mostrar uma contagem de 0 a 100\n",
        "      print(i)          # Imprime o indice(i) toda vez que entra no laço"
      ],
      "execution_count": null,
      "outputs": []
    },
    {
      "cell_type": "code",
      "metadata": {
        "id": "0_8sLnioMI80",
        "colab_type": "code",
        "colab": {}
      },
      "source": [
        "\"\"\"Exercicio 02 - Faça um programa que mostre a tabuada de 1, 2, 3 e 4 \"\"\"\n",
        "\n",
        "for i in range(4):                                        # Esse laço representa os numeros que queremos mostrar a tabuada.\n",
        "        for j in range(11):                               # Esse laço representa os numeros de 0 a 10.\n",
        "                print(f'{i + 1} X {j} = {(i+1) * j}')     # Faz a multiplicação das tabuadas e mostra seus resultados.\n",
        "\n",
        "    \n"
      ],
      "execution_count": null,
      "outputs": []
    },
    {
      "cell_type": "code",
      "metadata": {
        "id": "QuAQLYPoQbS5",
        "colab_type": "code",
        "colab": {}
      },
      "source": [
        "\"\"\"Exercicio 03 - Faça um programa que peça 10 notas do aluno. Faça a média e mostre as seguintes mensagens:\n",
        "Para 7 a 10 - Aprovado\n",
        "Para 5.5 a 7 - Recuperação \n",
        "Para menor de 5.5 - Reprovado\"\"\"\n",
        "\n",
        "somatorio = []                                                    # Cria uma lista para receber todos os numeros digitados\n",
        "for i in range(10):                                               # Executa o laço 10 vezes \n",
        "    somatorio.append(float(input(f'Digite a {i+1}ª nota: ')))     # Utiliza a função append para inserir cada nota na lista\n",
        "    soma = sum(somatorio)                                         # Utiliza a função sum para realizar o somatorio das notas presentes na lista\n",
        "    media = soma/(i + 1)                                          # Realiza o calculo e armazena o valor de média\n",
        "\n",
        "if(media < 5.5):                                                  # Realiza condição para verificar se o aluno esta reprovado\n",
        "    print(f'ALUNO REPROVADO!!!')\n",
        "    print(f'A média obtida pelo aluno foi: {media:.2f}')\n",
        "elif(media >= 5.5) and (media < 7.0):                             # Realiza condição para verificar se o aluno irá para recuperação\n",
        "    print(f'ALUNO EM RECUPERAÇÃO!!!')\n",
        "    print(f'A média obtida pelo aluno foi: {media:.2f}')\n",
        "else:                                                             # Caso nenhuma das condiçoes acima sejam satisfeitas. Conclui que o aluno foi aprovado\n",
        "    print(f'ALUNO APROVADO!!!')\n",
        "    print(f'A média obtida pelo aluno foi: {media:.2f}')"
      ],
      "execution_count": null,
      "outputs": []
    },
    {
      "cell_type": "code",
      "metadata": {
        "id": "eXUKAb3e6tkm",
        "colab_type": "code",
        "colab": {}
      },
      "source": [
        "\"\"\"Exercicio 04 - Faça um programa de cadastro de pessoas que receba 10 nomes, idades e e-mails e salve cada um em uma \n",
        "lista.\n",
        "Depois mostre as listas separadamente (print (lista) já é o suficiente)\"\"\"\n",
        "\n",
        "nome = []                                                                       # Cria lista para armazenar nomes\n",
        "idade = []                                                                      # Cria lista para armazenar idades\n",
        "email = []                                                                      # Cria lista para armazenar emails\n",
        "\n",
        "for i in range(10):                                                             # Laço que repete até que sejam cadastradas as 10 pessoas\n",
        "    nome.append(str(input(f'Digite o nome da {i + 1}ª pessoa: ')))              # Utiliza a função append para inserir nomes na lista nome\n",
        "    idade.append(int(input(f'Digite a idade da {i + 1}ª pessoa: ')))            # Utiliza a função append para inserir idades na lista idade\n",
        "    email.append(str(input(f'Digite o email da {i + 1}ª pessoa: ')))            # Utiliza a função append para inserir emails na lista email\n",
        "\n",
        "print(f'Os nomes presentes na lista são: {nome}')                               # Imprime os nomes contidos na lista nome.\n",
        "print(f'As idades presentes na lista são: {idade}')                             # Imprime os idades contidos na lista idade.\n",
        "print(f'Os emails cadastrados na lista foram: {email}')                         # Imprime os emails contidos na lista email."
      ],
      "execution_count": null,
      "outputs": []
    },
    {
      "cell_type": "code",
      "metadata": {
        "id": "1-UYNkD17FOv",
        "colab_type": "code",
        "colab": {}
      },
      "source": [
        "\"\"\"Exercicio 05 - Faça um programa que peça ao usuário digitar a quantidade de vendas do dia. \n",
        "Cadastre cada venda separadaemnte e depois mostre a média e o valor total vendido no dia.\"\"\"\n",
        "\n",
        "num_vendas = int(input(f'Digite o numero de vendas realizadas no dia: '))       # Pergunta ao usuario quantas vendas realizou no dia\n",
        "valor_total = 0                                                                 # Inicia a variavel com zero, pois vai armazenar a soma de valores\n",
        "\n",
        "for i in range(num_vendas):                                                     # Laço se repete de acordo com o numero de vendas realizadas\n",
        "        venda = float(input(f'Digite o valor da {i + 1}ª venda: '))             # Pede para que o vendedor informe o valor da sua venda          \n",
        "        valor_total = valor_total + venda                                       # Acumula todos os valores de todas as vendas realizadas\n",
        "print(f'A média de vendas foi de: {(valor_total / num_vendas)}')                # Imprime a média de vendas\n",
        "print(f'O valor total vendido no dia foi: {valor_total}')                       # Imprime o valor total de vendas"
      ],
      "execution_count": null,
      "outputs": []
    },
    {
      "cell_type": "code",
      "metadata": {
        "id": "GbK6JfmL7flD",
        "colab_type": "code",
        "colab": {}
      },
      "source": [
        "\"\"\"Exercicio 06 - Faça um programa que peça ao usuário que digite o nome de 10 pessoas. \n",
        "Depois mostre cada nome em linhas separadas.\"\"\"\n",
        "lista = []                                                                      # Cria uma variavel lista que funciona como uma lista\n",
        "for i in range(10):                                                             # Faz o laço se repetir por 10 vezes\n",
        "        lista.append(str(input(f'Digite o nome da {i + 1}ª pessoa: ')))         # Utiliza a função append para inserir os nomes digitados na lista.\n",
        "\n",
        "for j in range(10):                                                             # Faz o laço se repetir por 10 vezes\n",
        "        print(f'O {j + 1}º nome digiado foi: {lista[j]}')                       # Imprime todos os nomes presentes na lista"
      ],
      "execution_count": null,
      "outputs": []
    },
    {
      "cell_type": "code",
      "metadata": {
        "id": "4iqEZOH-74Hq",
        "colab_type": "code",
        "colab": {}
      },
      "source": [
        "\"\"\"Exercicio 07 - Faça um programa que receba 10 idades e mostre a seguinte mensagem:\n",
        "Para maiores de 18 anos: Ingreços da Rave liberado!\n",
        "De 16 a 18 anos: Ingreços de cinema liberado \n",
        "De 13 a 16 anos: Ingreços para fliperama liberado\n",
        "Menores de 13 anos: Psicina de bolinhas liberado\n",
        "\"\"\"\n",
        "\n",
        "idade = []                                                                                  # Cria uma lista para guardar as idades\n",
        "for i in range(10):                                                                         # Laço para garantir que repita 10 vezes\n",
        "    idade.append(int(input(f'Digite a {i + 1}ª idade: ')))                                  # Utiliza a função append para adcionar as idades na lista\n",
        "\n",
        "for j in range(10):                                                                         # Laço para percorrer a lista\n",
        "        if(idade[j] < 13):                                                                  # Condição que verifica o que o individuo tem direito.\n",
        "            print(f'O individo da {j + 1}ª idade digitada ganhou de brinde', end = ' ')\n",
        "            print(f'Psicina de bolinhas liberado')\n",
        "        elif(idade[j] >= 13) and (idade[j] < 16):                                           # Condição que verifica o que o individuo tem direito.\n",
        "            print(f'O individo da {j + 1}ª idade digitada ganhou de brinde', end = ' ')\n",
        "            print(f'Ingreços para fliperama liberado')\n",
        "        elif(idade[j] >= 16) and (idade[j] <= 18):                                          # Condição que verifica o que o individuo tem direito.\n",
        "            print(f'O individo da {j + 1}ª idade digitada ganhou de brinde', end = ' ')\n",
        "            print(f'Ingreços de cinema liberado')\n",
        "        else:                                                                               # Caso nenhuma das condiçoes acima sejam satisfeitas. Conclui que o individuo tem direito a Rave. \n",
        "            print(f'O individo da {j + 1}ª idade digitada ganhou de brinde', end = ' ')\n",
        "            print(f'Ingreços da Rave liberado!')"
      ],
      "execution_count": null,
      "outputs": []
    },
    {
      "cell_type": "code",
      "metadata": {
        "id": "xsjY4A2W9jpp",
        "colab_type": "code",
        "colab": {}
      },
      "source": [
        "\"\"\"Exercicio 08 - Faça um programa que pegue a lista e calcule a seguinte formula: 32x+125\n",
        "Com o resultado desta formula mostre sómente os resultados maiores que 550. \n",
        "Para os resultados menores que 550 mostre \"número invalido!\"\n",
        "\n",
        "lista = [1, 6, 9, 1, 5, 4, 8, 9, 15, 23, 14, 54, 82, 91, 45]\n",
        "\"\"\"\n",
        "lista = [1, 6, 9, 1, 5, 4, 8, 9, 15, 23, 14, 54, 82, 91, 45]                    # Cria uma lista que já possui elementos\n",
        "soma = []                                                                       # Cria uma lista de nome soma sem elementos\n",
        "for i in range(len(lista)):                                                     # Laço criado para executar iterações de acordo com o tamanho da lista\n",
        "    soma.append(32 * (i+1) + 125)                                               # Utiliza a função append para colocar o resultado na lista soma\n",
        "\n",
        "for j in range(len(lista)):                                                     # Laço para caminhar na lista soma\n",
        "    print(soma[j])                                                              # Imprime todos os valores da lista soma\n"
      ],
      "execution_count": null,
      "outputs": []
    },
    {
      "cell_type": "code",
      "metadata": {
        "id": "cacBSyer9sRC",
        "colab_type": "code",
        "colab": {
          "base_uri": "https://localhost:8080/",
          "height": 51
        },
        "outputId": "a6197ca1-8419-4722-abc7-1137b31147fc"
      },
      "source": [
        "\"\"\"Exercicio 09 - Faça um programa que pegue uma lista de valores e separe em 2 listas. \n",
        "Uma com valores menores que 500.00 e outra com maiores ou igual. Depois motre o maior e o menor valor da cada lista.\n",
        "vendas = [100.00, 500.00, 258.50, 710.00, 50.50, 750.00, 10.00, 1050.00, 859.75,\n",
        "     199.05, 500.50, 750.00, 568.60, 950.00, 950.00, 89.90, 2500.00, 1750.00, 500.00]\n",
        "\"\"\"\n",
        "\n",
        "vendas = [100.00, 500.00, 258.50, 710.00, 50.50,750.00, 10.00, 1050.00, 859.75, 199.05, 500.50,750.00, 568.60, 950.00, 950.00, 89.90, 2500.00, 1750.00,500.00]  \n",
        "venda_menor = []                                                                                          # Lista para armazenar valores menores que 500\n",
        "venda_maior = []                                                                                          # Lista para armazenar valores maiores que 500\n",
        "\n",
        "for i in range(len(vendas)):                                                                              # Laço criado para executar iterações de acordo com o tamanho da lista\n",
        "    if(vendas[i] < 500):                                                                                  # Condição verifica se maior que 500 \n",
        "        venda_menor.append(vendas[i])                                                                     # Utiliza a função append para adicionar os valores na lista venda_menor\n",
        "    elif(vendas[i] >= 500):                                                                               # Condição verifica se maior que 500\n",
        "        venda_maior.append(vendas[i])                                                                     # Utiliza a função append para adicionar os valores na lista venda_maior\n",
        "\n",
        "print(f'O maior valor da lista de valores acima de R$500 é R${max(venda_maior)}', end =' e ')             # Imprime os elementos da lista venda_maior\n",
        "print(f'o menor é: R${min(venda_maior)}')                                                                 # Imprime o elemento de menor valor da lista\n",
        "print(f'O maior valor da lista de valores abaixo de R$500 é R${max(venda_menor)}', end =' e ')            # Imprime os elementos da lista venda_maior\n",
        "print(f'o menor é: R${min(venda_menor)}')                                                                 # Imprime o elemento de menor valor da lista"
      ],
      "execution_count": 4,
      "outputs": [
        {
          "output_type": "stream",
          "text": [
            "O maior valor da lista de valores acima de R$500 é R$2500.0 e o menor é: R$500.0\n",
            "O maior valor da lista de valores abaixo de R$500 é R$258.5 e o menor é: R$10.0\n"
          ],
          "name": "stdout"
        }
      ]
    }
  ]
}