{
  "nbformat": 4,
  "nbformat_minor": 0,
  "metadata": {
    "colab": {
      "name": "Aula09.ipynb",
      "provenance": [],
      "authorship_tag": "ABX9TyONQ7uAnfpGAwvU8K/p+e8F",
      "include_colab_link": true
    },
    "kernelspec": {
      "name": "python3",
      "display_name": "Python 3"
    }
  },
  "cells": [
    {
      "cell_type": "markdown",
      "metadata": {
        "id": "view-in-github",
        "colab_type": "text"
      },
      "source": [
        "<a href=\"https://colab.research.google.com/github/santosclaudinei/Entra21_Claudinei/blob/master/Aula09.ipynb\" target=\"_parent\"><img src=\"https://colab.research.google.com/assets/colab-badge.svg\" alt=\"Open In Colab\"/></a>"
      ]
    },
    {
      "cell_type": "code",
      "metadata": {
        "id": "Mw6bY-ODGUWv",
        "colab_type": "code",
        "colab": {}
      },
      "source": [
        "\"\"\"Exercicio 01 - Faça um programa que conte de 0 a 100 e mostre todos os números.\"\"\"\n",
        "\n",
        "for i in range(101):\n",
        "      print(i)"
      ],
      "execution_count": null,
      "outputs": []
    },
    {
      "cell_type": "code",
      "metadata": {
        "id": "0_8sLnioMI80",
        "colab_type": "code",
        "colab": {}
      },
      "source": [
        "\"\"\"Exercicio 02 - Faça um programa que mostre a tabuada de 1, 2, 3 e 4 \"\"\"\n",
        "\n",
        "for i in range(4):\n",
        "        for j in range(11):\n",
        "                print(f'{i + 1} X {j} = {(i+1) * j}')\n",
        "\n",
        "    \n"
      ],
      "execution_count": null,
      "outputs": []
    },
    {
      "cell_type": "code",
      "metadata": {
        "id": "QuAQLYPoQbS5",
        "colab_type": "code",
        "colab": {}
      },
      "source": [
        "\"\"\"Exercicio 03 - Faça um programa que peça 10 notas do aluno. Faça a média e mostre as seguintes mensagens:\n",
        "Para 7 a 10 - Aprovado\n",
        "Para 5.5 a 7 - Recuperação \n",
        "Para menor de 5.5 - Reprovado\"\"\"\n",
        "\n",
        "somatorio = 0\n",
        "for i in range(10):\n",
        "    nota = float(input(f'Digite a {i+1}ª nota: '))\n",
        "    somatorio = somatorio + nota\n",
        "    media = somatorio / (i+1)\n",
        "\n",
        "if(media < 5.5):\n",
        "    print(f'ALUNO REPROVADO!!!')\n",
        "    print(f'A média obtida pelo aluno foi: {somatorio / (i+1)}')\n",
        "elif(media >= 5.5) or (media < 7.0):\n",
        "    print(f'ALUNO EM RECUPERAÇÃO!!!')\n",
        "    print(f'A média obtida pelo aluno foi: {somatorio / (i+1)}')\n",
        "else:\n",
        "    print(f'ALUNO APROVADO!!!')\n",
        "    print(f'A média obtida pelo aluno foi: {somatorio / (i+1)}')"
      ],
      "execution_count": null,
      "outputs": []
    },
    {
      "cell_type": "code",
      "metadata": {
        "id": "eXUKAb3e6tkm",
        "colab_type": "code",
        "colab": {}
      },
      "source": [
        "\"\"\"Exercicio 04 - Faça um programa de cadastro de pessoas que receba 10 nomes, idades e e-mails e salve cada um em uma \n",
        "lista.\n",
        "Depois mostre as listas separadamente (print (lista) já é o suficiente)\"\"\"\n",
        "\n",
        "nome = []\n",
        "idade = []\n",
        "email = []\n",
        "\n",
        "for i in range(10):\n",
        "    nome.append(str(input(f'Digite o nome da {i + 1}ª pessoa: ')))\n",
        "    idade.append(int(input(f'Digite a idade da {i + 1}ª pessoa: ')))\n",
        "    email.append(str(input(f'Digite o email da {i + 1}ª pessoa: ')))\n",
        "\n",
        "print(f'Os nomes presentes na lista são: {nome}')\n",
        "print(f'As idades presentes na lista são: {idade}')\n",
        "print(f'Os emails cadastrados na lista foram: {email}')"
      ],
      "execution_count": null,
      "outputs": []
    },
    {
      "cell_type": "code",
      "metadata": {
        "id": "1-UYNkD17FOv",
        "colab_type": "code",
        "colab": {}
      },
      "source": [
        "\"\"\"Exercicio 05 - Faça um programa que peça ao usuário digitar a quantidade de vendas do dia. \n",
        "Cadastre cada venda separadaemnte e depois mostre a média e o valor total vendido no dia.\"\"\"\n",
        "\n",
        "num_vendas = int(input(f'Digite o numero de vendas realizadas no dia: '))\n",
        "valor_total = 0\n",
        "\n",
        "for i in range(num_vendas):\n",
        "        venda = float(input(f'Digite o valor da {i + 1}ª venda: '))\n",
        "        valor_total = valor_total + venda\n",
        "print(f'A média de vendas foi de: {(valor_total / num_vendas)}')\n",
        "print(f'O valor total vendido no dia foi: {valor_total}')"
      ],
      "execution_count": null,
      "outputs": []
    },
    {
      "cell_type": "code",
      "metadata": {
        "id": "GbK6JfmL7flD",
        "colab_type": "code",
        "colab": {}
      },
      "source": [
        "\"\"\"Exercicio 06 - Faça um programa que peça ao usuário que digite o nome de 10 pessoas. \n",
        "Depois mostre cada nome em linhas separadas.\"\"\"\n",
        "lista = []\n",
        "for i in range(10):\n",
        "        lista.append(str(input(f'Digite o nome da {i + 1}ª pessoa: ')))\n",
        "\n",
        "for j in range(10):\n",
        "        print(f'O {j + 1}º nome digiado foi: {lista[j]}')"
      ],
      "execution_count": null,
      "outputs": []
    },
    {
      "cell_type": "code",
      "metadata": {
        "id": "4iqEZOH-74Hq",
        "colab_type": "code",
        "colab": {}
      },
      "source": [
        "\"\"\"Exercicio 07 - Faça um programa que receba 10 idades e mostre a seguinte mensagem:\n",
        "Para maiores de 18 anos: Ingreços da Rave liberado!\n",
        "De 16 a 18 anos: Ingreços de cinema liberado \n",
        "De 13 a 16 anos: Ingreços para fliperama liberado\n",
        "Menores de 13 anos: Psicina de bolinhas liberado\n",
        "\"\"\"\n",
        "\n",
        "idade = []\n",
        "for i in range(10):\n",
        "    idade.append(int(input(f'Digite a {i + 1}ª idade: ')))\n",
        "\n",
        "for j in range(10):\n",
        "        if(idade[j] < 13):\n",
        "            print(f'O individo da {j + 1}ª idade digitada ganhou de brinde', end = ' ')\n",
        "            print(f'Psicina de bolinhas liberado')\n",
        "        elif(idade[j] >= 13) and (idade[j] < 16):\n",
        "            print(f'O individo da {j + 1}ª idade digitada ganhou de brinde', end = ' ')\n",
        "            print(f'Ingreços para fliperama liberado')\n",
        "        elif(idade[j] >= 16) and (idade[j] <= 18):\n",
        "            print(f'O individo da {j + 1}ª idade digitada ganhou de brinde', end = ' ')\n",
        "            print(f'Ingreços de cinema liberado')\n",
        "        else:\n",
        "            print(f'O individo da {j + 1}ª idade digitada ganhou de brinde', end = ' ')\n",
        "            print(f'Ingreços da Rave liberado!')"
      ],
      "execution_count": null,
      "outputs": []
    },
    {
      "cell_type": "code",
      "metadata": {
        "id": "xsjY4A2W9jpp",
        "colab_type": "code",
        "colab": {}
      },
      "source": [
        "\"\"\"Exercicio 08 - Faça um programa que pegue a lista e calcule a seguinte formula: 32x+125\n",
        "Com o resultado desta formula mostre sómente os resultados maiores que 550. \n",
        "Para os resultados menores que 550 mostre \"número invalido!\"\n",
        "\n",
        "lista = [1, 6, 9, 1, 5, 4, 8, 9, 15, 23, 14, 54, 82, 91, 45]\n",
        "\"\"\"\n",
        "lista = [1, 6, 9, 1, 5, 4, 8, 9, 15, 23, 14, 54, 82, 91, 45]                    # Cria uma lista que já possui elementos\n",
        "soma = []                                                                       # Cria uma lista de nome soma sem elementos\n",
        "for i in range(len(lista)):                                                     # Laço criado para executar iterações de acordo com o tamanho da lista\n",
        "    soma.append((32 * lista[i]) + 125)                                          # Utiliza a função append para colocar o resultado na lista soma\n",
        "\n",
        "for j in range(len(lista)):                                                     # Laço para caminhar na lista soma\n",
        "    if(soma[j] < 550):\n",
        "        print('Numero invalido!!!')                                             # Imprime a mensagem invalido.\n",
        "    else:\n",
        "        print(soma[j])                                                          # Imprime todos os valores acima de 5550"
      ],
      "execution_count": null,
      "outputs": []
    },
    {
      "cell_type": "code",
      "metadata": {
        "id": "cacBSyer9sRC",
        "colab_type": "code",
        "colab": {}
      },
      "source": [
        "\"\"\"Exercicio 09 - Faça um programa que pegue uma lista de valores e separe em 2 listas. \n",
        "Uma com valores menores que 500.00 e outra com maiores ou igual. Depois motre o maior e o menor valor da cada lista.\n",
        "vendas = [100.00, 500.00, 258.50, 710.00, 50.50, 750.00, 10.00, 1050.00, 859.75,\n",
        "     199.05, 500.50, 750.00, 568.60, 950.00, 950.00, 89.90, 2500.00, 1750.00, 500.00]\n",
        "\"\"\"\n",
        "\n",
        "vendas = [100.00, 500.00, 258.50, 710.00, 50.50,750.00, 10.00, 1050.00, 859.75, 199.05, 500.50,750.00, 568.60, 950.00, 950.00, 89.90, 2500.00, 1750.00,500.00]\n",
        "venda_menor = []\n",
        "venda_maior = []\n",
        "\n",
        "for i in range(len(vendas)):\n",
        "    if(vendas[i] < 500):\n",
        "        venda_menor.append(vendas[i])\n",
        "    elif(vendas[i] >= 500):\n",
        "        venda_maior.append(vendas[i])\n",
        "\n",
        "print(f'O maior valor da lista de valores acima de R$500 é R${max(venda_maior)}', end =' e ')\n",
        "print(f'o menor é: R${min(venda_maior)}')\n",
        "print(f'O maior valor da lista de valores abaixo de R$500 é R${max(venda_menor)}', end =' e ')\n",
        "print(f'o menor é: R${min(venda_menor)}')"
      ],
      "execution_count": null,
      "outputs": []
    }
  ]
}