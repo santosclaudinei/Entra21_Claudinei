{
  "nbformat": 4,
  "nbformat_minor": 0,
  "metadata": {
    "colab": {
      "name": "Aula10.ipynb",
      "provenance": [],
      "authorship_tag": "ABX9TyNh6q0eL0rZCAwEeqIpS3vO",
      "include_colab_link": true
    },
    "kernelspec": {
      "name": "python3",
      "display_name": "Python 3"
    }
  },
  "cells": [
    {
      "cell_type": "markdown",
      "metadata": {
        "id": "view-in-github",
        "colab_type": "text"
      },
      "source": [
        "<a href=\"https://colab.research.google.com/github/santosclaudinei/Entra21_Claudinei/blob/master/Aula10.ipynb\" target=\"_parent\"><img src=\"https://colab.research.google.com/assets/colab-badge.svg\" alt=\"Open In Colab\"/></a>"
      ]
    },
    {
      "cell_type": "code",
      "metadata": {
        "id": "OOBF4vOkum7A",
        "colab_type": "code",
        "colab": {}
      },
      "source": [
        "''' Exercício 01 - Crie um programa que cadastre 5 clientes. \n",
        "\n",
        "* Cada cliente possui: Nome, sexo, Telefone (Guarde estes dados em listas separadas).\n",
        "\n",
        "* Depois mostre os dados cadastrados no seguinte formato:\n",
        "\n",
        "***********************************\n",
        "Relatório de clientes cadastrados \n",
        "***********************************\n",
        "Nome: \n",
        "Sexo:\n",
        "Telefone:\n",
        "***********************************'''\n",
        "\n",
        "nome = []\n",
        "sexo = []\n",
        "telefone = []\n",
        "tamanho = 5\n",
        "\n",
        "for i in range(tamanho):\n",
        "    nome.append((input(f'Digite o {i + 1}º nome: ')))\n",
        "    sexo.append((input(f'Digite o {i + 1}º sexo: ')))\n",
        "    telefone.append((input(f'Digite o {i + 1}º telefone: ')))\n",
        "\n",
        "for j in range(tamanho):\n",
        "    print(f'''\n",
        "***********************************\n",
        "Relatório de clientes cadastrados \n",
        "***********************************\n",
        "Nome:{nome[j]} \n",
        "Sexo:{sexo[j]}\n",
        "Telefone:{telefone[i]}\n",
        "***********************************\n",
        "''')"
      ],
      "execution_count": null,
      "outputs": []
    },
    {
      "cell_type": "code",
      "metadata": {
        "id": "C5upL3gd1sYk",
        "colab_type": "code",
        "colab": {}
      },
      "source": [
        "\"\"\"Exercício 02 - O id de um cliente é um código único (só aquela pessoa tem) composto por \n",
        "números inteiros que inicia do número 1 e vai aumentando de 1 em 1 enquanto for necessário.\n",
        "\n",
        "Exemplo:\n",
        "id: 1\n",
        "Nome: Dudu\n",
        "id: 2\n",
        "Nome: Marta\n",
        "id: 3\n",
        "Nome: Pedro\n",
        "\n",
        "ATENÇÃO!!!!\n",
        "O id é um número atribuido automáticamente! O cliente não escolhe o número. O seu programa deve fazer o cadastro deste id automaticamente.\n",
        "\n",
        "Com isso, crie um cadastro de clientes que receba o id, nome e idade. Depois mostre os dados dos clientes individualmente.\n",
        "(cadastre no minimo 4 clientes)\"\"\"\n",
        "\n",
        "id = []\n",
        "nome = []\n",
        "idade = []\n",
        "tamanho = int(input(f'Digite a quantidade de clientes que deseja visualizar: '))\n",
        "\n",
        "for i in range(tamanho):\n",
        "    id.append(i + 1)\n",
        "    nome.append((input(f'Digite o nome do {i + 1} cliente: ')))\n",
        "    idade.append((int(input(f'Digite a idade do {i + 1} cliente: '))))\n",
        "\n",
        "for j in range(tamanho):\n",
        "    print(f'''\n",
        "***********************************\n",
        "Relatório de clientes cadastrados \n",
        "***********************************\n",
        "ID:{id[j]} \n",
        "Nome:{nome[j]}\n",
        "Idade:{idade[j]}\n",
        "***********************************\n",
        "''')"
      ],
      "execution_count": null,
      "outputs": []
    },
    {
      "cell_type": "code",
      "metadata": {
        "id": "9zf48RX_45xB",
        "colab_type": "code",
        "colab": {}
      },
      "source": [
        "\"\"\"Exercício 03 - 3.1) Crie um programa que cadastre o id, nome, sexo e a idade de 5 clientes.\n",
        "                - 3.2) Depois mostre os dados dos 5 clientes.\n",
        "                - 3.3) Peça para que o usuário escolha um id de um cliente e mostre as informações deste cliente.\n",
        "                - 3.4) Crie um filtro que ao digitar um id de um cliente mostre as seguintes informações:\n",
        "                        - Para menores de 17 anos: Entrada Proibida\n",
        "                        - Para maiores de 17 anos: Entrada Liberada\n",
        "                        - Para o sexo Feminino: 50% de desconto\n",
        "                        - Para o sexo Masculino: 5% de desconto \"\"\"\n",
        "\n",
        "id = []\n",
        "nome = []\n",
        "sexo = []\n",
        "idade = []\n",
        "tamanho = 5\n",
        "\n",
        "for i in range(tamanho):\n",
        "    id.append(i + 1)\n",
        "    nome.append((input(f'Digite o nome do {i + 1}º cliente: ')))\n",
        "    sexo.append((input(f'Digite o sexo do {i + 1}º cliente: ')))\n",
        "    idade.append((int(input(f'Digite a idade do {i + 1}º cliente: '))))\n",
        "\n",
        "for j in range(tamanho):\n",
        "    print(f'''\n",
        "*************************************\n",
        "      Cadastro Geral de Cliente \n",
        "*************************************\n",
        "ID:{id[j]} \n",
        "Nome:{nome[j]}\n",
        "Sexo:{sexo[j]}\n",
        "Idade:{idade[j]}\n",
        "*************************************\n",
        "''')    \n",
        "\n",
        "opcao = int(input(f'Digite ID do cliente que gostaria de verificar as informações: '))\n",
        "if(idade[opcao - 1] < 17):\n",
        "      print(f'A idade do {opcao - 1}º cliente é {idade[opcao - 1]} e por esse motivo a sua entrada foi PROIBIDA! ')\n",
        "if(idade[opcao - 1] > 17) and (sexo[opcao - 1].capitalize() == 'Masculino'):\n",
        "      print(f'A idade do {opcao - 1}º cliente é {idade[opcao - 1]} e por esse motivo a sua entrada foi LIBERADA!!! ')\n",
        "      print(f'Opa! Seja bem vindo {nome[opcao - 1]}. Você obteve o desconto de 5% de desconto.')\n",
        "elif(idade[opcao - 1] > 17) and (sexo[opcao].capitalize() == 'Feminino'):\n",
        "      print(f'A idade do {opcao - 1}º cliente é {idade[opcao - 1]} e por esse motivo a sua entrada foi LIBERADA!!! ')\n",
        "      print(f'Opa! Seja bem vindo {nome[opcao - 1]}. Que tal um desconto?! Por ser do sexo {sexo[opcao - 1]} você foi agraciada com 50% de desconto.')\n"
      ],
      "execution_count": null,
      "outputs": []
    }
  ]
}